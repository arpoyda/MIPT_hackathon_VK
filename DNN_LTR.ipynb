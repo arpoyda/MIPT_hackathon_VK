{
 "cells": [
  {
   "cell_type": "code",
   "execution_count": 1,
   "id": "30f90a09",
   "metadata": {},
   "outputs": [
    {
     "name": "stdout",
     "output_type": "stream",
     "text": [
      "pytorch version: 2.0.0\n",
      "Device: cuda:0\n"
     ]
    }
   ],
   "source": [
    "# import warnings\n",
    "# warnings.filterwarnings(\"ignore\")\n",
    "from tqdm.notebook import tqdm\n",
    "\n",
    "import numpy as np\n",
    "import pandas as pd\n",
    "\n",
    "import torch\n",
    "import torch.nn as nn\n",
    "print('pytorch version:', torch.__version__)\n",
    "global_device = torch.device(\"cuda:0\" if torch.cuda.is_available() else \"cpu\")\n",
    "print('Device:', global_device)\n",
    "from torch.utils.data import DataLoader, random_split, Dataset\n",
    "\n",
    "import random\n",
    "\n",
    "import pytorch_lightning as pl\n",
    "import pytorchltr as pltr\n",
    "\n",
    "from pytorchltr.evaluation import ndcg\n",
    "from pytorchltr.loss import LambdaNDCGLoss2\n",
    "\n",
    "import neuralndcg\n",
    "import lambdaloss"
   ]
  },
  {
   "cell_type": "code",
   "execution_count": 2,
   "id": "91f28206",
   "metadata": {},
   "outputs": [],
   "source": [
    "# Matplotlib settings\n",
    "import matplotlib\n",
    "import matplotlib as mp\n",
    "import matplotlib.pyplot as plt\n",
    "from matplotlib import cm\n",
    "from mpl_toolkits.mplot3d import Axes3D\n",
    "from matplotlib.collections import PolyCollection\n",
    "from matplotlib.colors import colorConverter\n",
    "\n",
    "titlesize = 20\n",
    "labelsize = 16\n",
    "legendsize = labelsize\n",
    "xticksize = 14\n",
    "yticksize = xticksize\n",
    "\n",
    "matplotlib.rcParams['legend.markerscale'] = 1.5     # the relative size of legend markers vs. original\n",
    "matplotlib.rcParams['legend.handletextpad'] = 0.5\n",
    "matplotlib.rcParams['legend.labelspacing'] = 0.4    # the vertical space between the legend entries in fraction of fontsize\n",
    "matplotlib.rcParams['legend.borderpad'] = 0.5       # border whitespace in fontsize units\n",
    "matplotlib.rcParams['font.size'] = 12\n",
    "matplotlib.rcParams['font.family'] = 'serif'\n",
    "matplotlib.rcParams['font.serif'] = 'Times New Roman'\n",
    "matplotlib.rcParams['axes.labelsize'] = labelsize\n",
    "matplotlib.rcParams['axes.titlesize'] = titlesize\n",
    "\n",
    "matplotlib.rc('xtick', labelsize=xticksize)\n",
    "matplotlib.rc('ytick', labelsize=yticksize)\n",
    "matplotlib.rc('legend', fontsize=legendsize)\n",
    "\n",
    "matplotlib.rc('font', **{'family':'serif'})"
   ]
  },
  {
   "cell_type": "markdown",
   "id": "b94d3879",
   "metadata": {},
   "source": [
    "# Data loading"
   ]
  },
  {
   "cell_type": "code",
   "execution_count": 3,
   "id": "e41e8afe",
   "metadata": {},
   "outputs": [],
   "source": [
    "out_dir = './out'"
   ]
  },
  {
   "cell_type": "markdown",
   "id": "48922eb6",
   "metadata": {},
   "source": [
    "### Preprocessed embeddings:"
   ]
  },
  {
   "cell_type": "code",
   "execution_count": 4,
   "id": "9aad9ecf",
   "metadata": {},
   "outputs": [],
   "source": [
    "query_embeddings = np.load(f'{out_dir}/query_embeddings_all-MiniLM-L6-v2.npy')\n",
    "query_embeddings = np.repeat(query_embeddings, 5, axis=0).reshape([-1, 5, 384])\n",
    "documents_embeddings = np.load(f'{out_dir}/documents_embeddings_all-MiniLM-L6-v2.npy')\n",
    "documents_embeddings = documents_embeddings.reshape([-1, 5, 384])"
   ]
  },
  {
   "cell_type": "markdown",
   "id": "666d7a23",
   "metadata": {},
   "source": [
    "### Preprocessed text features:"
   ]
  },
  {
   "cell_type": "code",
   "execution_count": 5,
   "id": "7df173b7",
   "metadata": {},
   "outputs": [],
   "source": [
    "features = pd.read_csv(f'{out_dir}/features.csv')\n",
    "features = features.drop(features.columns[0], axis=1)\n",
    "features = features.to_numpy().reshape([-1, 5, 15])"
   ]
  },
  {
   "cell_type": "markdown",
   "id": "c1953eff",
   "metadata": {},
   "source": [
    "### Train & Test -> Dataloaders"
   ]
  },
  {
   "cell_type": "code",
   "execution_count": 6,
   "id": "c4758159",
   "metadata": {},
   "outputs": [],
   "source": [
    "train_mask = (np.random.rand(query_embeddings.shape[0]) < 0.8)\n",
    "\n",
    "query_train = query_embeddings[train_mask]\n",
    "query_val = query_embeddings[~train_mask]\n",
    "\n",
    "documents_train = documents_embeddings[train_mask]\n",
    "documents_val = documents_embeddings[~train_mask]\n",
    "\n",
    "features_train = features[train_mask]\n",
    "features_val = features[~train_mask]\n",
    "\n",
    "relevance_train = np.tile(np.array([4, 3, 2, 1, 0]), (query_train.shape[0], 1))\n",
    "relevance_val = np.tile(np.array([4, 3, 2, 1, 0]), (query_val.shape[0], 1))"
   ]
  },
  {
   "cell_type": "code",
   "execution_count": 7,
   "id": "d838b48e",
   "metadata": {},
   "outputs": [],
   "source": [
    "class CommentEmbeddingDataset(torch.utils.data.Dataset):\n",
    "    def __init__(self, query, documents, features, relevance):\n",
    "        assert isinstance(query, torch.Tensor) or isinstance(query, np.ndarray)\n",
    "        assert isinstance(documents, torch.Tensor) or isinstance(documents, np.ndarray)\n",
    "        assert isinstance(features, torch.Tensor) or isinstance(features, np.ndarray)\n",
    "        assert isinstance(relevance, torch.Tensor) or isinstance(relevance, np.ndarray)\n",
    "        \n",
    "        assert query.shape[0] == documents.shape[0] == relevance.shape[0] == features.shape[0]\n",
    "        assert documents.shape[1] == relevance.shape[1] == features.shape[1]\n",
    "        \n",
    "        # Real scores as true labels\n",
    "        self.relevances = torch.FloatTensor(relevance).to(global_device)\n",
    "        \n",
    "        # Input vector = concat[query, documents, features, relevance]\n",
    "        self.x = torch.cat([torch.FloatTensor(query), \n",
    "                       torch.FloatTensor(documents), \n",
    "                       torch.FloatTensor(features)], dim=2).to(global_device)\n",
    "        print('Shape x:', self.x.shape)\n",
    "        print('Shape r:', self.relevances.shape)\n",
    "\n",
    "    def __len__(self):\n",
    "        return len(self.x)\n",
    "\n",
    "    def __getitem__(self, idx):\n",
    "\n",
    "        x = self.x[idx]\n",
    "        r = self.relevances[idx]\n",
    "        return x, r"
   ]
  },
  {
   "cell_type": "code",
   "execution_count": 8,
   "id": "85173d34",
   "metadata": {},
   "outputs": [
    {
     "name": "stdout",
     "output_type": "stream",
     "text": [
      "Train data shape:\n",
      "Shape x: torch.Size([70494, 5, 783])\n",
      "Shape r: torch.Size([70494, 5])\n",
      "\n",
      "Val data shape:\n",
      "Shape x: torch.Size([17613, 5, 783])\n",
      "Shape r: torch.Size([17613, 5])\n"
     ]
    }
   ],
   "source": [
    "batch_size = 128\n",
    "\n",
    "print('Train data shape:')\n",
    "dataset_train = CommentEmbeddingDataset(query_train, documents_train, features_train, relevance_train)\n",
    "dataloader_train = DataLoader(dataset_train, batch_size)\n",
    "\n",
    "print('\\nVal data shape:')\n",
    "dataset_val = CommentEmbeddingDataset(query_val, documents_val, features_val, relevance_val)\n",
    "dataloader_val = DataLoader(dataset_val, batch_size)"
   ]
  },
  {
   "cell_type": "code",
   "execution_count": 9,
   "id": "28c2d2c7",
   "metadata": {},
   "outputs": [],
   "source": [
    "# Memory release\n",
    "del query_embeddings\n",
    "del documents_embeddings\n",
    "del features\n",
    "\n",
    "del query_train\n",
    "del query_val\n",
    "del documents_train\n",
    "del documents_val\n",
    "del features_train\n",
    "del features_val\n",
    "del relevance_train\n",
    "del relevance_val\n",
    "\n",
    "del dataset_train\n",
    "del dataset_val"
   ]
  },
  {
   "cell_type": "code",
   "execution_count": 10,
   "id": "68675c26",
   "metadata": {},
   "outputs": [],
   "source": [
    "class FeatureToScore(pl.LightningModule):\n",
    "    def __init__(self, input_dim):\n",
    "        super().__init__()\n",
    "        \n",
    "        self.input_dim = input_dim\n",
    "        \n",
    "        self.linear_block_1 = nn.Sequential(torch.nn.Linear(self.input_dim, self.input_dim),\n",
    "                                            torch.nn.LeakyReLU())\n",
    "        self.linear_block_1_1 = nn.Sequential(torch.nn.Linear(self.input_dim, self.input_dim),\n",
    "                                            torch.nn.LeakyReLU())\n",
    "        self.linear_block_1_2 = nn.Sequential(torch.nn.Linear(self.input_dim, self.input_dim),\n",
    "                                            torch.nn.LeakyReLU())\n",
    "        self.linear_block_2 = nn.Sequential(torch.nn.Linear(self.input_dim, int(self.input_dim / 2)),\n",
    "                                            torch.nn.LeakyReLU())\n",
    "        self.linear_block_3 = nn.Sequential(torch.nn.Linear(int(self.input_dim / 2), int(self.input_dim / 4)),\n",
    "                                            torch.nn.LeakyReLU())\n",
    "        self.linear_block_out = nn.Sequential(torch.nn.Linear(int(self.input_dim / 4), 1))\n",
    "\n",
    "        self.n_docs_per_query = torch.tensor([5]).to(global_device)\n",
    "        \n",
    "        \n",
    "    def forward(self, x):\n",
    "        o_1 = self.linear_block_1(x)\n",
    "#         o_1_1 = self.linear_block_1_1(o_1)\n",
    "#         o_1_2 = self.linear_block_1_2(o_1_1)\n",
    "        o_2 = self.linear_block_2(o_1)\n",
    "        o_3 = self.linear_block_3(o_2)\n",
    "        o_out = self.linear_block_out(o_3)\n",
    "        return o_out\n",
    "\n",
    "    def training_step(self, batch, batch_idx):\n",
    "        x, r = batch\n",
    "        x.reshape(-1, x.shape[-1])\n",
    "        scores = self(x)\n",
    "        scores = scores.reshape(-1, self.n_docs_per_query[0])\n",
    "        loss = lambdaloss.lambdaLoss(scores, r, reduction='mean')\n",
    "        self.log(\"train_loss\", loss, prog_bar=True)\n",
    "        \n",
    "        train_ndcg = pltr.evaluation.ndcg(scores, r, self.n_docs_per_query, k=self.n_docs_per_query[0]).mean()\n",
    "        self.log(\"train_ndcg\", train_ndcg, prog_bar=True)\n",
    "        return loss\n",
    "    \n",
    "    def validation_step(self, batch, batch_idx):\n",
    "        x, r = batch\n",
    "        x.reshape(-1, x.shape[-1])\n",
    "        scores = self(x)\n",
    "        scores = scores.reshape(-1, self.n_docs_per_query[0])\n",
    "        \n",
    "        val_ndcg = pltr.evaluation.ndcg(scores, r, self.n_docs_per_query, k=self.n_docs_per_query[0]).mean()\n",
    "        self.log(\"val_ndcg\", val_ndcg, prog_bar=True)\n",
    "\n",
    "\n",
    "    def configure_optimizers(self):\n",
    "        optimizer = torch.optim.Adam(self.parameters(), lr=1e-2)\n",
    "        scheduler = torch.optim.lr_scheduler.ExponentialLR(optimizer, 0.75)\n",
    "        \n",
    "        return {\"optimizer\": optimizer,\n",
    "                \"lr_scheduler\": {\n",
    "                                \"scheduler\": scheduler,\n",
    "                                \"interval\": \"epoch\",\n",
    "                                \"frequency\": 1\n",
    "                                },\n",
    "               }"
   ]
  },
  {
   "cell_type": "code",
   "execution_count": 11,
   "id": "61f1dc1d",
   "metadata": {
    "scrolled": false
   },
   "outputs": [
    {
     "name": "stderr",
     "output_type": "stream",
     "text": [
      "GPU available: True (cuda), used: True\n",
      "TPU available: False, using: 0 TPU cores\n",
      "IPU available: False, using: 0 IPUs\n",
      "HPU available: False, using: 0 HPUs\n",
      "C:\\Users\\Arseny\\AppData\\Local\\miniconda3\\envs\\venv_ml\\lib\\site-packages\\pytorch_lightning\\trainer\\connectors\\logger_connector\\logger_connector.py:67: UserWarning: Starting from v1.9.0, `tensorboardX` has been removed as a dependency of the `pytorch_lightning` package, due to potential conflicts with other packages in the ML ecosystem. For this reason, `logger=True` will use `CSVLogger` as the default logger, unless the `tensorboard` or `tensorboardX` packages are found. Please `pip install lightning[extra]` or one of them to enable TensorBoard support by default\n",
      "  warning_cache.warn(\n",
      "`Trainer(val_check_interval=1.0)` was configured so validation will run at the end of the training epoch..\n",
      "You are using a CUDA device ('NVIDIA GeForce RTX 3060 Ti') that has Tensor Cores. To properly utilize them, you should set `torch.set_float32_matmul_precision('medium' | 'high')` which will trade-off precision for performance. For more details, read https://pytorch.org/docs/stable/generated/torch.set_float32_matmul_precision.html#torch.set_float32_matmul_precision\n",
      "LOCAL_RANK: 0 - CUDA_VISIBLE_DEVICES: [0]\n",
      "\n",
      "  | Name             | Type       | Params\n",
      "------------------------------------------------\n",
      "0 | linear_block_1   | Sequential | 613 K \n",
      "1 | linear_block_1_1 | Sequential | 613 K \n",
      "2 | linear_block_1_2 | Sequential | 613 K \n",
      "3 | linear_block_2   | Sequential | 306 K \n",
      "4 | linear_block_3   | Sequential | 76.4 K\n",
      "5 | linear_block_out | Sequential | 196   \n",
      "------------------------------------------------\n",
      "2.2 M     Trainable params\n",
      "0         Non-trainable params\n",
      "2.2 M     Total params\n",
      "8.899     Total estimated model params size (MB)\n"
     ]
    },
    {
     "data": {
      "application/vnd.jupyter.widget-view+json": {
       "model_id": "",
       "version_major": 2,
       "version_minor": 0
      },
      "text/plain": [
       "Sanity Checking: 0it [00:00, ?it/s]"
      ]
     },
     "metadata": {},
     "output_type": "display_data"
    },
    {
     "name": "stderr",
     "output_type": "stream",
     "text": [
      "C:\\Users\\Arseny\\AppData\\Local\\miniconda3\\envs\\venv_ml\\lib\\site-packages\\pytorch_lightning\\trainer\\connectors\\data_connector.py:432: PossibleUserWarning: The dataloader, val_dataloader, does not have many workers which may be a bottleneck. Consider increasing the value of the `num_workers` argument` (try 6 which is the number of cpus on this machine) in the `DataLoader` init to improve performance.\n",
      "  rank_zero_warn(\n",
      "C:\\Users\\Arseny\\AppData\\Local\\miniconda3\\envs\\venv_ml\\lib\\site-packages\\pytorch_lightning\\trainer\\connectors\\data_connector.py:432: PossibleUserWarning: The dataloader, train_dataloader, does not have many workers which may be a bottleneck. Consider increasing the value of the `num_workers` argument` (try 6 which is the number of cpus on this machine) in the `DataLoader` init to improve performance.\n",
      "  rank_zero_warn(\n"
     ]
    },
    {
     "data": {
      "application/vnd.jupyter.widget-view+json": {
       "model_id": "5a53435967c74b52b5835152c10307ad",
       "version_major": 2,
       "version_minor": 0
      },
      "text/plain": [
       "Training: 0it [00:00, ?it/s]"
      ]
     },
     "metadata": {},
     "output_type": "display_data"
    },
    {
     "data": {
      "application/vnd.jupyter.widget-view+json": {
       "model_id": "",
       "version_major": 2,
       "version_minor": 0
      },
      "text/plain": [
       "Validation: 0it [00:00, ?it/s]"
      ]
     },
     "metadata": {},
     "output_type": "display_data"
    },
    {
     "data": {
      "application/vnd.jupyter.widget-view+json": {
       "model_id": "",
       "version_major": 2,
       "version_minor": 0
      },
      "text/plain": [
       "Validation: 0it [00:00, ?it/s]"
      ]
     },
     "metadata": {},
     "output_type": "display_data"
    },
    {
     "data": {
      "application/vnd.jupyter.widget-view+json": {
       "model_id": "",
       "version_major": 2,
       "version_minor": 0
      },
      "text/plain": [
       "Validation: 0it [00:00, ?it/s]"
      ]
     },
     "metadata": {},
     "output_type": "display_data"
    },
    {
     "data": {
      "application/vnd.jupyter.widget-view+json": {
       "model_id": "",
       "version_major": 2,
       "version_minor": 0
      },
      "text/plain": [
       "Validation: 0it [00:00, ?it/s]"
      ]
     },
     "metadata": {},
     "output_type": "display_data"
    },
    {
     "data": {
      "application/vnd.jupyter.widget-view+json": {
       "model_id": "",
       "version_major": 2,
       "version_minor": 0
      },
      "text/plain": [
       "Validation: 0it [00:00, ?it/s]"
      ]
     },
     "metadata": {},
     "output_type": "display_data"
    },
    {
     "data": {
      "application/vnd.jupyter.widget-view+json": {
       "model_id": "",
       "version_major": 2,
       "version_minor": 0
      },
      "text/plain": [
       "Validation: 0it [00:00, ?it/s]"
      ]
     },
     "metadata": {},
     "output_type": "display_data"
    },
    {
     "data": {
      "application/vnd.jupyter.widget-view+json": {
       "model_id": "",
       "version_major": 2,
       "version_minor": 0
      },
      "text/plain": [
       "Validation: 0it [00:00, ?it/s]"
      ]
     },
     "metadata": {},
     "output_type": "display_data"
    },
    {
     "data": {
      "application/vnd.jupyter.widget-view+json": {
       "model_id": "",
       "version_major": 2,
       "version_minor": 0
      },
      "text/plain": [
       "Validation: 0it [00:00, ?it/s]"
      ]
     },
     "metadata": {},
     "output_type": "display_data"
    },
    {
     "data": {
      "application/vnd.jupyter.widget-view+json": {
       "model_id": "",
       "version_major": 2,
       "version_minor": 0
      },
      "text/plain": [
       "Validation: 0it [00:00, ?it/s]"
      ]
     },
     "metadata": {},
     "output_type": "display_data"
    },
    {
     "data": {
      "application/vnd.jupyter.widget-view+json": {
       "model_id": "",
       "version_major": 2,
       "version_minor": 0
      },
      "text/plain": [
       "Validation: 0it [00:00, ?it/s]"
      ]
     },
     "metadata": {},
     "output_type": "display_data"
    },
    {
     "data": {
      "application/vnd.jupyter.widget-view+json": {
       "model_id": "",
       "version_major": 2,
       "version_minor": 0
      },
      "text/plain": [
       "Validation: 0it [00:00, ?it/s]"
      ]
     },
     "metadata": {},
     "output_type": "display_data"
    },
    {
     "data": {
      "application/vnd.jupyter.widget-view+json": {
       "model_id": "",
       "version_major": 2,
       "version_minor": 0
      },
      "text/plain": [
       "Validation: 0it [00:00, ?it/s]"
      ]
     },
     "metadata": {},
     "output_type": "display_data"
    },
    {
     "data": {
      "application/vnd.jupyter.widget-view+json": {
       "model_id": "",
       "version_major": 2,
       "version_minor": 0
      },
      "text/plain": [
       "Validation: 0it [00:00, ?it/s]"
      ]
     },
     "metadata": {},
     "output_type": "display_data"
    },
    {
     "data": {
      "application/vnd.jupyter.widget-view+json": {
       "model_id": "",
       "version_major": 2,
       "version_minor": 0
      },
      "text/plain": [
       "Validation: 0it [00:00, ?it/s]"
      ]
     },
     "metadata": {},
     "output_type": "display_data"
    },
    {
     "data": {
      "application/vnd.jupyter.widget-view+json": {
       "model_id": "",
       "version_major": 2,
       "version_minor": 0
      },
      "text/plain": [
       "Validation: 0it [00:00, ?it/s]"
      ]
     },
     "metadata": {},
     "output_type": "display_data"
    },
    {
     "name": "stderr",
     "output_type": "stream",
     "text": [
      "`Trainer.fit` stopped: `max_epochs=15` reached.\n"
     ]
    }
   ],
   "source": [
    "trainer = pl.Trainer(accelerator=\"gpu\", devices=1, val_check_interval=1.0, max_epochs=15)\n",
    "model = FeatureToScore(783)\n",
    "trainer.fit(model, dataloader_train, dataloader_val, )"
   ]
  },
  {
   "cell_type": "code",
   "execution_count": 12,
   "id": "fb736f83",
   "metadata": {},
   "outputs": [],
   "source": [
    "df = pd.read_csv('lightning_logs/version_92/metrics.csv')"
   ]
  },
  {
   "cell_type": "code",
   "execution_count": 14,
   "id": "1be57644",
   "metadata": {},
   "outputs": [
    {
     "data": {
      "text/html": [
       "<div>\n",
       "<style scoped>\n",
       "    .dataframe tbody tr th:only-of-type {\n",
       "        vertical-align: middle;\n",
       "    }\n",
       "\n",
       "    .dataframe tbody tr th {\n",
       "        vertical-align: top;\n",
       "    }\n",
       "\n",
       "    .dataframe thead th {\n",
       "        text-align: right;\n",
       "    }\n",
       "</style>\n",
       "<table border=\"1\" class=\"dataframe\">\n",
       "  <thead>\n",
       "    <tr style=\"text-align: right;\">\n",
       "      <th></th>\n",
       "      <th>train_loss</th>\n",
       "      <th>train_ndcg</th>\n",
       "      <th>epoch</th>\n",
       "      <th>step</th>\n",
       "      <th>val_ndcg</th>\n",
       "    </tr>\n",
       "  </thead>\n",
       "  <tbody>\n",
       "    <tr>\n",
       "      <th>0</th>\n",
       "      <td>0.929871</td>\n",
       "      <td>0.819112</td>\n",
       "      <td>0</td>\n",
       "      <td>49</td>\n",
       "      <td>NaN</td>\n",
       "    </tr>\n",
       "    <tr>\n",
       "      <th>1</th>\n",
       "      <td>0.903610</td>\n",
       "      <td>0.813864</td>\n",
       "      <td>0</td>\n",
       "      <td>99</td>\n",
       "      <td>NaN</td>\n",
       "    </tr>\n",
       "    <tr>\n",
       "      <th>2</th>\n",
       "      <td>0.897367</td>\n",
       "      <td>0.836418</td>\n",
       "      <td>0</td>\n",
       "      <td>149</td>\n",
       "      <td>NaN</td>\n",
       "    </tr>\n",
       "    <tr>\n",
       "      <th>3</th>\n",
       "      <td>0.855927</td>\n",
       "      <td>0.843898</td>\n",
       "      <td>0</td>\n",
       "      <td>199</td>\n",
       "      <td>NaN</td>\n",
       "    </tr>\n",
       "    <tr>\n",
       "      <th>4</th>\n",
       "      <td>0.838698</td>\n",
       "      <td>0.855957</td>\n",
       "      <td>0</td>\n",
       "      <td>249</td>\n",
       "      <td>NaN</td>\n",
       "    </tr>\n",
       "    <tr>\n",
       "      <th>...</th>\n",
       "      <td>...</td>\n",
       "      <td>...</td>\n",
       "      <td>...</td>\n",
       "      <td>...</td>\n",
       "      <td>...</td>\n",
       "    </tr>\n",
       "    <tr>\n",
       "      <th>175</th>\n",
       "      <td>0.819270</td>\n",
       "      <td>0.848957</td>\n",
       "      <td>14</td>\n",
       "      <td>8099</td>\n",
       "      <td>NaN</td>\n",
       "    </tr>\n",
       "    <tr>\n",
       "      <th>176</th>\n",
       "      <td>0.849919</td>\n",
       "      <td>0.837463</td>\n",
       "      <td>14</td>\n",
       "      <td>8149</td>\n",
       "      <td>NaN</td>\n",
       "    </tr>\n",
       "    <tr>\n",
       "      <th>177</th>\n",
       "      <td>0.866864</td>\n",
       "      <td>0.834410</td>\n",
       "      <td>14</td>\n",
       "      <td>8199</td>\n",
       "      <td>NaN</td>\n",
       "    </tr>\n",
       "    <tr>\n",
       "      <th>178</th>\n",
       "      <td>0.823436</td>\n",
       "      <td>0.848982</td>\n",
       "      <td>14</td>\n",
       "      <td>8249</td>\n",
       "      <td>NaN</td>\n",
       "    </tr>\n",
       "    <tr>\n",
       "      <th>179</th>\n",
       "      <td>NaN</td>\n",
       "      <td>NaN</td>\n",
       "      <td>14</td>\n",
       "      <td>8264</td>\n",
       "      <td>0.838401</td>\n",
       "    </tr>\n",
       "  </tbody>\n",
       "</table>\n",
       "<p>180 rows × 5 columns</p>\n",
       "</div>"
      ],
      "text/plain": [
       "     train_loss  train_ndcg  epoch  step  val_ndcg\n",
       "0      0.929871    0.819112      0    49       NaN\n",
       "1      0.903610    0.813864      0    99       NaN\n",
       "2      0.897367    0.836418      0   149       NaN\n",
       "3      0.855927    0.843898      0   199       NaN\n",
       "4      0.838698    0.855957      0   249       NaN\n",
       "..          ...         ...    ...   ...       ...\n",
       "175    0.819270    0.848957     14  8099       NaN\n",
       "176    0.849919    0.837463     14  8149       NaN\n",
       "177    0.866864    0.834410     14  8199       NaN\n",
       "178    0.823436    0.848982     14  8249       NaN\n",
       "179         NaN         NaN     14  8264  0.838401\n",
       "\n",
       "[180 rows x 5 columns]"
      ]
     },
     "execution_count": 14,
     "metadata": {},
     "output_type": "execute_result"
    }
   ],
   "source": [
    "df"
   ]
  },
  {
   "cell_type": "code",
   "execution_count": 17,
   "id": "aeb61710",
   "metadata": {},
   "outputs": [
    {
     "data": {
      "text/plain": [
       "Text(0, 0.5, 'Train Loss')"
      ]
     },
     "execution_count": 17,
     "metadata": {},
     "output_type": "execute_result"
    },
    {
     "data": {
      "image/png": "[encoded data removed]",
      "text/plain": [
       "<Figure size 640x480 with 1 Axes>"
      ]
     },
     "metadata": {},
     "output_type": "display_data"
    }
   ],
   "source": [
    "plt.plot(df['step'], df['train_loss'])\n",
    "plt.xlabel('Train Step')\n",
    "plt.ylabel('Train Loss')"
   ]
  },
  {
   "cell_type": "code",
   "execution_count": 19,
   "id": "49165042",
   "metadata": {},
   "outputs": [
    {
     "data": {
      "text/plain": [
       "Text(0, 0.5, 'Val NDCG')"
      ]
     },
     "execution_count": 19,
     "metadata": {},
     "output_type": "execute_result"
    },
    {
     "data": {
      "image/png": "[encoded data removed]",
      "text/plain": [
       "<Figure size 640x480 with 1 Axes>"
      ]
     },
     "metadata": {},
     "output_type": "display_data"
    }
   ],
   "source": [
    "plt.plot(df['val_ndcg'].dropna())\n",
    "plt.xlabel('Val Step')\n",
    "plt.ylabel('Val NDCG')"
   ]
  },
  {
   "cell_type": "markdown",
   "id": "4f12fc8a",
   "metadata": {},
   "source": [
    "Catboost Ranker provides NDCG=0.89 for validation data (In another .ipynb). Here we see NDCG=0.84, but this is because there are two different ways to calculate NDCG for Catboost and here. We checked the Catboost predicted values with NDCG function from this file and found out that the quality of predictions are equal: (local_NDCG=0.84) == (catboost_NDCG=0.89).\n",
    "So this model can be use in Stacking with Catboost."
   ]
  }
 ],
 "metadata": {
  "kernelspec": {
   "display_name": "Python 3 (ipykernel)",
   "language": "python",
   "name": "python3"
  },
  "language_info": {
   "codemirror_mode": {
    "name": "ipython",
    "version": 3
   },
   "file_extension": ".py",
   "mimetype": "text/x-python",
   "name": "python",
   "nbconvert_exporter": "python",
   "pygments_lexer": "ipython3",
   "version": "3.10.9"
  }
 },
 "nbformat": 4,
 "nbformat_minor": 5
}
