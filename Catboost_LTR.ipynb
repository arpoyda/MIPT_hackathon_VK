{
  "cells": [
    {
      "cell_type": "code",
      "execution_count": null,
      "id": "d9a9ff15",
      "metadata": {
        "id": "d9a9ff15"
      },
      "outputs": [],
      "source": [
        "import pandas as pd\n",
        "import numpy as np\n",
        "\n",
        "import json\n",
        "import html\n",
        "import codecs\n",
        "\n",
        "from tqdm.notebook import tqdm\n",
        "import matplotlib.pyplot as plt\n",
        "\n",
        "from sklearn.model_selection import GroupShuffleSplit\n",
        "\n",
        "from copy import deepcopy"
      ]
    },
    {
      "cell_type": "code",
      "source": [
        "!pip install pytorchltr\n",
        "from pytorchltr.evaluation import ndcg"
      ],
      "metadata": {
        "id": "yZpIrOblaWdy"
      },
      "id": "yZpIrOblaWdy",
      "execution_count": null,
      "outputs": []
    },
    {
      "cell_type": "code",
      "source": [
        "!pip install catboost\n",
        "from catboost import CatBoostRanker, Pool, MetricVisualizer"
      ],
      "metadata": {
        "id": "CNxL_hV5BZC1"
      },
      "id": "CNxL_hV5BZC1",
      "execution_count": null,
      "outputs": []
    },
    {
      "cell_type": "code",
      "execution_count": null,
      "id": "540602b4",
      "metadata": {
        "id": "540602b4"
      },
      "outputs": [],
      "source": [
        "import torch\n",
        "device = \"cuda:0\" if torch.cuda.is_available() else \"cpu\""
      ]
    },
    {
      "cell_type": "code",
      "source": [
        "from google.colab import drive\n",
        "drive.mount('/content/drive')\n",
        "data_dir = './drive/MyDrive/Colab Notebooks/Hackathon/data'"
      ],
      "metadata": {
        "colab": {
          "base_uri": "https://localhost:8080/"
        },
        "id": "gY0JOFXyn8fH",
        "outputId": "512403ce-e4f5-4b30-b6d7-a0474bbf0868"
      },
      "id": "gY0JOFXyn8fH",
      "execution_count": null,
      "outputs": [
        {
          "output_type": "stream",
          "name": "stdout",
          "text": [
            "Drive already mounted at /content/drive; to attempt to forcibly remount, call drive.mount(\"/content/drive\", force_remount=True).\n"
          ]
        }
      ]
    },
    {
      "cell_type": "markdown",
      "source": [
        "# CatBoost (features + text)"
      ],
      "metadata": {
        "id": "YOQvIAeXBVkw"
      },
      "id": "YOQvIAeXBVkw"
    },
    {
      "cell_type": "markdown",
      "source": [
        "## Load data"
      ],
      "metadata": {
        "id": "jDdRTLD9Hv_s"
      },
      "id": "jDdRTLD9Hv_s"
    },
    {
      "cell_type": "code",
      "execution_count": null,
      "id": "820ed366",
      "metadata": {
        "id": "820ed366"
      },
      "outputs": [],
      "source": [
        "with codecs.open(f'{data_dir}/ranking_train.jsonl', encoding='utf-8', mode='r') as f:\n",
        "    lines = f.readlines()\n",
        "    q_ds_list = [json.loads(line) for line in lines]"
      ]
    },
    {
      "cell_type": "code",
      "execution_count": null,
      "id": "e2ac1a69",
      "metadata": {
        "id": "e2ac1a69"
      },
      "outputs": [],
      "source": [
        "query = []\n",
        "documents = []\n",
        "scores = []\n",
        "for q_ds in q_ds_list:\n",
        "    query.append(html.unescape(q_ds['text']))\n",
        "    ds = [com['text'] for com in q_ds['comments']]\n",
        "    for com in q_ds['comments']:\n",
        "        documents.append(html.unescape(com['text']))\n",
        "        scores.append(com['score'])\n",
        "\n",
        "scores = (4 - np.array(scores))\n",
        "torch.save(torch.Tensor(scores), f'{data_dir}/scores.pt')"
      ]
    },
    {
      "cell_type": "code",
      "source": [
        "features_df = pd.read_csv(f'{data_dir}/features.csv', index_col=0)\n",
        "query_series = pd.Series(query).repeat(5).reset_index(drop=True)\n",
        "document_series = pd.Series(documents)\n",
        "features_df['query_text'] = query_series\n",
        "features_df['document_text'] = document_series\n",
        "features_df.head()"
      ],
      "metadata": {
        "colab": {
          "base_uri": "https://localhost:8080/",
          "height": 617
        },
        "id": "-HPJkbso09u3",
        "outputId": "7c861984-050c-468f-98d7-ab3737ea24ed"
      },
      "id": "-HPJkbso09u3",
      "execution_count": null,
      "outputs": [
        {
          "output_type": "execute_result",
          "data": {
            "text/plain": [
              "   chars_num  cap_chars_num  digits_num  words_num  cap_words_num  \\\n",
              "0        998             12           2        181              0   \n",
              "1        414              4           0         76              0   \n",
              "2        488             28           0         91              5   \n",
              "3        318              7           2         64              2   \n",
              "4         81              1           0         14              1   \n",
              "\n",
              "   unique_words_num  sentences_num  http_num  unique_vs_words  avg_wordlength  \\\n",
              "0               120             12         0         0.662983        5.513812   \n",
              "1                61              4         0         0.802632        5.447368   \n",
              "2                71              6         0         0.780220        5.362637   \n",
              "3                48              4         0         0.750000        4.968750   \n",
              "4                13              1         0         0.928571        5.785714   \n",
              "\n",
              "   avg_sentencelength        ARI  polarity  subjectivity  query_cos_sim  \\\n",
              "0           15.083333  12.081722 -0.042308      0.447436       0.650387   \n",
              "1           19.000000  13.727105  0.172222      0.325000       0.521176   \n",
              "2           15.166667  11.411355  0.190303      0.408788       0.388382   \n",
              "3           16.000000   9.972812  0.176190      0.509524       0.432402   \n",
              "4           14.000000  12.820714  0.000000      0.000000       0.558688   \n",
              "\n",
              "                                          query_text  \\\n",
              "0  How many summer Y Combinator fundees decided n...   \n",
              "1  How many summer Y Combinator fundees decided n...   \n",
              "2  How many summer Y Combinator fundees decided n...   \n",
              "3  How many summer Y Combinator fundees decided n...   \n",
              "4  How many summer Y Combinator fundees decided n...   \n",
              "\n",
              "                                       document_text  \n",
              "0  Going back to school is not identical with giv...  \n",
              "1  There will invariably be those who don't see t...  \n",
              "2  For me school is a way to be connected to what...  \n",
              "3  I guess it really depends on how hungry you ar...  \n",
              "4  I know pollground decided to go back to school...  "
            ],
            "text/html": [
              "\n",
              "  <div id=\"df-92e34911-1fa8-4a3e-a368-b1d25d7390f3\">\n",
              "    <div class=\"colab-df-container\">\n",
              "      <div>\n",
              "<style scoped>\n",
              "    .dataframe tbody tr th:only-of-type {\n",
              "        vertical-align: middle;\n",
              "    }\n",
              "\n",
              "    .dataframe tbody tr th {\n",
              "        vertical-align: top;\n",
              "    }\n",
              "\n",
              "    .dataframe thead th {\n",
              "        text-align: right;\n",
              "    }\n",
              "</style>\n",
              "<table border=\"1\" class=\"dataframe\">\n",
              "  <thead>\n",
              "    <tr style=\"text-align: right;\">\n",
              "      <th></th>\n",
              "      <th>chars_num</th>\n",
              "      <th>cap_chars_num</th>\n",
              "      <th>digits_num</th>\n",
              "      <th>words_num</th>\n",
              "      <th>cap_words_num</th>\n",
              "      <th>unique_words_num</th>\n",
              "      <th>sentences_num</th>\n",
              "      <th>http_num</th>\n",
              "      <th>unique_vs_words</th>\n",
              "      <th>avg_wordlength</th>\n",
              "      <th>avg_sentencelength</th>\n",
              "      <th>ARI</th>\n",
              "      <th>polarity</th>\n",
              "      <th>subjectivity</th>\n",
              "      <th>query_cos_sim</th>\n",
              "      <th>query_text</th>\n",
              "      <th>document_text</th>\n",
              "    </tr>\n",
              "  </thead>\n",
              "  <tbody>\n",
              "    <tr>\n",
              "      <th>0</th>\n",
              "      <td>998</td>\n",
              "      <td>12</td>\n",
              "      <td>2</td>\n",
              "      <td>181</td>\n",
              "      <td>0</td>\n",
              "      <td>120</td>\n",
              "      <td>12</td>\n",
              "      <td>0</td>\n",
              "      <td>0.662983</td>\n",
              "      <td>5.513812</td>\n",
              "      <td>15.083333</td>\n",
              "      <td>12.081722</td>\n",
              "      <td>-0.042308</td>\n",
              "      <td>0.447436</td>\n",
              "      <td>0.650387</td>\n",
              "      <td>How many summer Y Combinator fundees decided n...</td>\n",
              "      <td>Going back to school is not identical with giv...</td>\n",
              "    </tr>\n",
              "    <tr>\n",
              "      <th>1</th>\n",
              "      <td>414</td>\n",
              "      <td>4</td>\n",
              "      <td>0</td>\n",
              "      <td>76</td>\n",
              "      <td>0</td>\n",
              "      <td>61</td>\n",
              "      <td>4</td>\n",
              "      <td>0</td>\n",
              "      <td>0.802632</td>\n",
              "      <td>5.447368</td>\n",
              "      <td>19.000000</td>\n",
              "      <td>13.727105</td>\n",
              "      <td>0.172222</td>\n",
              "      <td>0.325000</td>\n",
              "      <td>0.521176</td>\n",
              "      <td>How many summer Y Combinator fundees decided n...</td>\n",
              "      <td>There will invariably be those who don't see t...</td>\n",
              "    </tr>\n",
              "    <tr>\n",
              "      <th>2</th>\n",
              "      <td>488</td>\n",
              "      <td>28</td>\n",
              "      <td>0</td>\n",
              "      <td>91</td>\n",
              "      <td>5</td>\n",
              "      <td>71</td>\n",
              "      <td>6</td>\n",
              "      <td>0</td>\n",
              "      <td>0.780220</td>\n",
              "      <td>5.362637</td>\n",
              "      <td>15.166667</td>\n",
              "      <td>11.411355</td>\n",
              "      <td>0.190303</td>\n",
              "      <td>0.408788</td>\n",
              "      <td>0.388382</td>\n",
              "      <td>How many summer Y Combinator fundees decided n...</td>\n",
              "      <td>For me school is a way to be connected to what...</td>\n",
              "    </tr>\n",
              "    <tr>\n",
              "      <th>3</th>\n",
              "      <td>318</td>\n",
              "      <td>7</td>\n",
              "      <td>2</td>\n",
              "      <td>64</td>\n",
              "      <td>2</td>\n",
              "      <td>48</td>\n",
              "      <td>4</td>\n",
              "      <td>0</td>\n",
              "      <td>0.750000</td>\n",
              "      <td>4.968750</td>\n",
              "      <td>16.000000</td>\n",
              "      <td>9.972812</td>\n",
              "      <td>0.176190</td>\n",
              "      <td>0.509524</td>\n",
              "      <td>0.432402</td>\n",
              "      <td>How many summer Y Combinator fundees decided n...</td>\n",
              "      <td>I guess it really depends on how hungry you ar...</td>\n",
              "    </tr>\n",
              "    <tr>\n",
              "      <th>4</th>\n",
              "      <td>81</td>\n",
              "      <td>1</td>\n",
              "      <td>0</td>\n",
              "      <td>14</td>\n",
              "      <td>1</td>\n",
              "      <td>13</td>\n",
              "      <td>1</td>\n",
              "      <td>0</td>\n",
              "      <td>0.928571</td>\n",
              "      <td>5.785714</td>\n",
              "      <td>14.000000</td>\n",
              "      <td>12.820714</td>\n",
              "      <td>0.000000</td>\n",
              "      <td>0.000000</td>\n",
              "      <td>0.558688</td>\n",
              "      <td>How many summer Y Combinator fundees decided n...</td>\n",
              "      <td>I know pollground decided to go back to school...</td>\n",
              "    </tr>\n",
              "  </tbody>\n",
              "</table>\n",
              "</div>\n",
              "      <button class=\"colab-df-convert\" onclick=\"convertToInteractive('df-92e34911-1fa8-4a3e-a368-b1d25d7390f3')\"\n",
              "              title=\"Convert this dataframe to an interactive table.\"\n",
              "              style=\"display:none;\">\n",
              "        \n",
              "  <svg xmlns=\"http://www.w3.org/2000/svg\" height=\"24px\"viewBox=\"0 0 24 24\"\n",
              "       width=\"24px\">\n",
              "    <path d=\"M0 0h24v24H0V0z\" fill=\"none\"/>\n",
              "    <path d=\"M18.56 5.44l.94 2.06.94-2.06 2.06-.94-2.06-.94-.94-2.06-.94 2.06-2.06.94zm-11 1L8.5 8.5l.94-2.06 2.06-.94-2.06-.94L8.5 2.5l-.94 2.06-2.06.94zm10 10l.94 2.06.94-2.06 2.06-.94-2.06-.94-.94-2.06-.94 2.06-2.06.94z\"/><path d=\"M17.41 7.96l-1.37-1.37c-.4-.4-.92-.59-1.43-.59-.52 0-1.04.2-1.43.59L10.3 9.45l-7.72 7.72c-.78.78-.78 2.05 0 2.83L4 21.41c.39.39.9.59 1.41.59.51 0 1.02-.2 1.41-.59l7.78-7.78 2.81-2.81c.8-.78.8-2.07 0-2.86zM5.41 20L4 18.59l7.72-7.72 1.47 1.35L5.41 20z\"/>\n",
              "  </svg>\n",
              "      </button>\n",
              "      \n",
              "  <style>\n",
              "    .colab-df-container {\n",
              "      display:flex;\n",
              "      flex-wrap:wrap;\n",
              "      gap: 12px;\n",
              "    }\n",
              "\n",
              "    .colab-df-convert {\n",
              "      background-color: #E8F0FE;\n",
              "      border: none;\n",
              "      border-radius: 50%;\n",
              "      cursor: pointer;\n",
              "      display: none;\n",
              "      fill: #1967D2;\n",
              "      height: 32px;\n",
              "      padding: 0 0 0 0;\n",
              "      width: 32px;\n",
              "    }\n",
              "\n",
              "    .colab-df-convert:hover {\n",
              "      background-color: #E2EBFA;\n",
              "      box-shadow: 0px 1px 2px rgba(60, 64, 67, 0.3), 0px 1px 3px 1px rgba(60, 64, 67, 0.15);\n",
              "      fill: #174EA6;\n",
              "    }\n",
              "\n",
              "    [theme=dark] .colab-df-convert {\n",
              "      background-color: #3B4455;\n",
              "      fill: #D2E3FC;\n",
              "    }\n",
              "\n",
              "    [theme=dark] .colab-df-convert:hover {\n",
              "      background-color: #434B5C;\n",
              "      box-shadow: 0px 1px 3px 1px rgba(0, 0, 0, 0.15);\n",
              "      filter: drop-shadow(0px 1px 2px rgba(0, 0, 0, 0.3));\n",
              "      fill: #FFFFFF;\n",
              "    }\n",
              "  </style>\n",
              "\n",
              "      <script>\n",
              "        const buttonEl =\n",
              "          document.querySelector('#df-92e34911-1fa8-4a3e-a368-b1d25d7390f3 button.colab-df-convert');\n",
              "        buttonEl.style.display =\n",
              "          google.colab.kernel.accessAllowed ? 'block' : 'none';\n",
              "\n",
              "        async function convertToInteractive(key) {\n",
              "          const element = document.querySelector('#df-92e34911-1fa8-4a3e-a368-b1d25d7390f3');\n",
              "          const dataTable =\n",
              "            await google.colab.kernel.invokeFunction('convertToInteractive',\n",
              "                                                     [key], {});\n",
              "          if (!dataTable) return;\n",
              "\n",
              "          const docLinkHtml = 'Like what you see? Visit the ' +\n",
              "            '<a target=\"_blank\" href=https://colab.research.google.com/notebooks/data_table.ipynb>data table notebook</a>'\n",
              "            + ' to learn more about interactive tables.';\n",
              "          element.innerHTML = '';\n",
              "          dataTable['output_type'] = 'display_data';\n",
              "          await google.colab.output.renderOutput(dataTable, element);\n",
              "          const docLink = document.createElement('div');\n",
              "          docLink.innerHTML = docLinkHtml;\n",
              "          element.appendChild(docLink);\n",
              "        }\n",
              "      </script>\n",
              "    </div>\n",
              "  </div>\n",
              "  "
            ]
          },
          "metadata": {},
          "execution_count": 9
        }
      ]
    },
    {
      "cell_type": "code",
      "source": [
        "groups_ids = np.arange(len(features_df)//5).repeat(5)\n",
        "groups_ids.shape, groups_ids"
      ],
      "metadata": {
        "colab": {
          "base_uri": "https://localhost:8080/"
        },
        "id": "SOJX0LAb2BVq",
        "outputId": "205c473a-133f-4528-b997-2157bc56232a"
      },
      "id": "SOJX0LAb2BVq",
      "execution_count": null,
      "outputs": [
        {
          "output_type": "execute_result",
          "data": {
            "text/plain": [
              "((440535,), array([    0,     0,     0, ..., 88106, 88106, 88106]))"
            ]
          },
          "metadata": {},
          "execution_count": 10
        }
      ]
    },
    {
      "cell_type": "markdown",
      "source": [
        "## Split data and train model"
      ],
      "metadata": {
        "id": "6z5cphP7bwrO"
      },
      "id": "6z5cphP7bwrO"
    },
    {
      "cell_type": "code",
      "source": [
        "splitter = GroupShuffleSplit(test_size=0.20, n_splits=2, random_state=42)\n",
        "split = splitter.split(features_df, groups=groups_ids)\n",
        "\n",
        "train_inds, test_inds = next(split)\n",
        "train_df = features_df.iloc[train_inds]\n",
        "train_group_ids = groups_ids[train_inds]\n",
        "train_scores = scores[train_inds]\n",
        "test_df = features_df.iloc[test_inds]\n",
        "test_group_ids = groups_ids[test_inds]\n",
        "test_scores = scores[test_inds]"
      ],
      "metadata": {
        "id": "SxvfbESY2fnQ"
      },
      "id": "SxvfbESY2fnQ",
      "execution_count": null,
      "outputs": []
    },
    {
      "cell_type": "code",
      "source": [
        "train = Pool(\n",
        "    data=train_df,\n",
        "    label=train_scores,\n",
        "    group_id=train_group_ids,\n",
        "    text_features=['document_text', 'query_text'],\n",
        ")\n",
        "\n",
        "test = Pool(\n",
        "    data=test_df,\n",
        "    label=test_scores,\n",
        "    group_id=test_group_ids,\n",
        "    text_features=['document_text', 'query_text'],\n",
        ")"
      ],
      "metadata": {
        "id": "-iAP4DAr3UQR"
      },
      "id": "-iAP4DAr3UQR",
      "execution_count": null,
      "outputs": []
    },
    {
      "cell_type": "code",
      "execution_count": null,
      "id": "fae88627",
      "metadata": {
        "id": "fae88627"
      },
      "outputs": [],
      "source": [
        "default_parameters = {\n",
        "    'iterations': 50,\n",
        "    'custom_metric': ['NDCG'],\n",
        "    'verbose': True,\n",
        "    'random_seed': 0,\n",
        "}\n",
        "\n",
        "def fit_model(loss_function, additional_params=None, train_pool=train, test_pool=test):\n",
        "    parameters = deepcopy(default_parameters)\n",
        "    parameters['loss_function'] = loss_function\n",
        "    parameters['train_dir'] = loss_function\n",
        "\n",
        "    if additional_params is not None:\n",
        "        parameters.update(additional_params)\n",
        "\n",
        "    model = CatBoostRanker(**parameters)\n",
        "    model.fit(train_pool, eval_set=test_pool, plot=True)\n",
        "\n",
        "    return model"
      ]
    },
    {
      "cell_type": "code",
      "execution_count": null,
      "id": "c8c42133",
      "metadata": {
        "id": "c8c42133",
        "colab": {
          "base_uri": "https://localhost:8080/",
          "height": 191,
          "referenced_widgets": [
            "023a160ae6bc43d8a6b1244a91cb2446"
          ]
        },
        "outputId": "3f9467ad-ada0-48f6-acca-24c15654f1f9"
      },
      "outputs": [
        {
          "output_type": "display_data",
          "data": {
            "text/plain": [
              "MetricVisualizer(layout=Layout(align_self='stretch', height='500px'))"
            ],
            "application/vnd.jupyter.widget-view+json": {
              "version_major": 2,
              "version_minor": 0,
              "model_id": "023a160ae6bc43d8a6b1244a91cb2446"
            }
          },
          "metadata": {}
        },
        {
          "output_type": "stream",
          "name": "stdout",
          "text": [
            "0:\ttest: 0.8357607\tbest: 0.8357607 (0)\ttotal: 4.99s\tremaining: 4m 4s\n",
            "10:\ttest: 0.8693005\tbest: 0.8693005 (10)\ttotal: 24.7s\tremaining: 1m 27s\n",
            "20:\ttest: 0.8790809\tbest: 0.8790809 (20)\ttotal: 45.6s\tremaining: 1m 2s\n",
            "30:\ttest: 0.8822367\tbest: 0.8822367 (30)\ttotal: 1m 12s\tremaining: 44.1s\n",
            "40:\ttest: 0.8847914\tbest: 0.8847914 (40)\ttotal: 1m 34s\tremaining: 20.8s\n",
            "49:\ttest: 0.8877576\tbest: 0.8877576 (49)\ttotal: 1m 58s\tremaining: 0us\n",
            "\n",
            "bestTest = 0.887757583\n",
            "bestIteration = 49\n",
            "\n"
          ]
        }
      ],
      "source": [
        "model = fit_model('YetiRank', {'metric_period': 10, 'learning_rate': 0.01,\n",
        "                               'depth': 4})  # 'task_type': 'GPU'"
      ]
    },
    {
      "cell_type": "code",
      "source": [
        "# NDCG on test\n",
        "n = torch.tensor([5])\n",
        "s = torch.tensor(model.predict(test).reshape([len(test_df)//5, 5]))\n",
        "r = torch.tensor(test_scores.reshape([len(test_df)//5, 5]))\n",
        "ndcgs_test = ndcg(s, r, n, k=5).numpy()\n",
        "ndcgs_test.mean()"
      ],
      "metadata": {
        "id": "Z9XLmzNqjLqq",
        "colab": {
          "base_uri": "https://localhost:8080/"
        },
        "outputId": "31a37659-4905-46f4-efde-939c56977bcf"
      },
      "execution_count": null,
      "outputs": [
        {
          "output_type": "execute_result",
          "data": {
            "text/plain": [
              "0.83220065"
            ]
          },
          "metadata": {},
          "execution_count": 18
        }
      ],
      "id": "Z9XLmzNqjLqq"
    },
    {
      "cell_type": "code",
      "source": [
        "plt.hist(ndcgs_test, bins=10, density=True)\n",
        "plt.title(\"NDCG metric distribution (on test)\")\n",
        "plt.xlabel(\"NDCG\")\n",
        "plt.show()"
      ],
      "metadata": {
        "id": "uKaWKtaJqup3",
        "outputId": "098777e4-c8b6-4fd8-d755-02d73ed68f20",
        "colab": {
          "base_uri": "https://localhost:8080/",
          "height": 472
        }
      },
      "id": "uKaWKtaJqup3",
      "execution_count": null,
      "outputs": [
        {
          "output_type": "display_data",
          "data": {
            "text/plain": [
              "<Figure size 640x480 with 1 Axes>"
            ],
            "image/png": "[encoded data removed]"
          },
          "metadata": {}
        }
      ]
    },
    {
      "cell_type": "markdown",
      "source": [
        "We can observe that on part of the test sample, the NDCG metric has a high value (>0.85), and on the other part, the ranking is almost random (a dome around ~0.72).\n",
        "\n",
        "An idea: train the classifier to divide the input data into two classes (, ).  \n",
        "*   data from the 1st class get high value of NDCG with the developped model\n",
        "*   data fromthe 2nd class cannot be ranked with the developped model (low NDCG)\n",
        "\n",
        "Next, we need to train the developped ranking model only on the 1st class of data, and then build a new model for the 2nd class and train it only on the data of the 2nd class.\n",
        "\n",
        "1.   data -> [classifier] -> class\n",
        "2.   (data + class) -> [ranking model] -> ordered comments\n"
      ],
      "metadata": {
        "id": "eTiqH6QITLQE"
      },
      "id": "eTiqH6QITLQE"
    },
    {
      "cell_type": "code",
      "source": [
        "# NDCG on train\n",
        "n = torch.tensor([5])\n",
        "s = torch.tensor(model.predict(train).reshape([len(train_df)//5, 5]))\n",
        "r = torch.tensor(train_scores.reshape([len(train_df)//5, 5]))\n",
        "ndcgs_train = ndcg(s, r, n, k=5).numpy()\n",
        "ndcgs_train.mean()"
      ],
      "metadata": {
        "colab": {
          "base_uri": "https://localhost:8080/"
        },
        "outputId": "5e766d33-990d-4d5e-a2c0-d32d423d6b63",
        "id": "oNp8aGfVjLqq"
      },
      "execution_count": null,
      "outputs": [
        {
          "output_type": "execute_result",
          "data": {
            "text/plain": [
              "0.8326671"
            ]
          },
          "metadata": {},
          "execution_count": 31
        }
      ],
      "id": "oNp8aGfVjLqq"
    },
    {
      "cell_type": "code",
      "source": [
        "plt.hist(ndcgs_train, bins=10, density=True)\n",
        "plt.title(\"NDCG metric distribution (on train)\")\n",
        "plt.xlabel(\"NDCG\")\n",
        "plt.show()"
      ],
      "metadata": {
        "id": "dZlRx_hxHaSX",
        "outputId": "f014fa43-f91b-4e7e-e007-b6367e5dfb6d",
        "colab": {
          "base_uri": "https://localhost:8080/",
          "height": 472
        }
      },
      "id": "dZlRx_hxHaSX",
      "execution_count": null,
      "outputs": [
        {
          "output_type": "display_data",
          "data": {
            "text/plain": [
              "<Figure size 640x480 with 1 Axes>"
            ],
            "image/png": "[encoded data removed]"
          },
          "metadata": {}
        }
      ]
    },
    {
      "cell_type": "code",
      "source": [
        "# NDCG in case of random ranking\n",
        "sumscore = 0\n",
        "yinit = np.array(range(5))\n",
        "np.random.seed(42)\n",
        "for i in range(10000):\n",
        "    y = np.array(yinit)\n",
        "    np.random.shuffle(y)\n",
        "    sumscore += ndcg( torch.FloatTensor([yinit]), torch.tensor([y]), n, k=5)\n",
        "sumscore/10000"
      ],
      "metadata": {
        "colab": {
          "base_uri": "https://localhost:8080/"
        },
        "id": "sR0m51zh-b66",
        "outputId": "d2cba78f-7cc4-4a23-bdc7-26ec1e919b0c"
      },
      "id": "sR0m51zh-b66",
      "execution_count": null,
      "outputs": [
        {
          "output_type": "execute_result",
          "data": {
            "text/plain": [
              "tensor([0.7184])"
            ]
          },
          "metadata": {},
          "execution_count": 25
        }
      ]
    },
    {
      "cell_type": "code",
      "source": [
        "# NDCG in case of ideal ranking\n",
        "y = np.array(range(5))\n",
        "ndcg( torch.FloatTensor([y]), torch.tensor([y]), n, k=5)"
      ],
      "metadata": {
        "colab": {
          "base_uri": "https://localhost:8080/"
        },
        "id": "wESiPg-L-xxX",
        "outputId": "eff72213-da7f-4b07-93d0-5a03d1b00f9b"
      },
      "id": "wESiPg-L-xxX",
      "execution_count": null,
      "outputs": [
        {
          "output_type": "execute_result",
          "data": {
            "text/plain": [
              "tensor([1.])"
            ]
          },
          "metadata": {},
          "execution_count": 23
        }
      ]
    },
    {
      "cell_type": "code",
      "source": [
        "# NDCG in case of ideal reversed ranking\n",
        "y_rev = y - 5\n",
        "ndcg( torch.FloatTensor([y_rev]), torch.tensor([y]), n, k=5)"
      ],
      "metadata": {
        "colab": {
          "base_uri": "https://localhost:8080/"
        },
        "id": "KqURRN1mF1bW",
        "outputId": "e1171b59-4563-49b7-dc18-a17e874788cb"
      },
      "id": "KqURRN1mF1bW",
      "execution_count": null,
      "outputs": [
        {
          "output_type": "execute_result",
          "data": {
            "text/plain": [
              "tensor([1.])"
            ]
          },
          "metadata": {},
          "execution_count": 24
        }
      ]
    },
    {
      "cell_type": "markdown",
      "source": [
        "# CatBoost (features + embeddings)"
      ],
      "metadata": {
        "id": "Ulq1vhGTNMLr"
      },
      "id": "Ulq1vhGTNMLr"
    },
    {
      "cell_type": "markdown",
      "source": [
        "## Load data"
      ],
      "metadata": {
        "id": "Sjy6oIBTb6ZK"
      },
      "id": "Sjy6oIBTb6ZK"
    },
    {
      "cell_type": "code",
      "source": [
        "features_df = pd.read_csv(f'{data_dir}/features.csv', index_col=0)\n",
        "features_df.head()"
      ],
      "metadata": {
        "colab": {
          "base_uri": "https://localhost:8080/",
          "height": 270
        },
        "id": "XgAnOhD-IbbK",
        "outputId": "f078af47-5298-4c0b-9528-ca74c2111a5b"
      },
      "execution_count": null,
      "outputs": [
        {
          "output_type": "execute_result",
          "data": {
            "text/plain": [
              "   chars_num  cap_chars_num  digits_num  words_num  cap_words_num  \\\n",
              "0        998             12           2        181              0   \n",
              "1        414              4           0         76              0   \n",
              "2        488             28           0         91              5   \n",
              "3        318              7           2         64              2   \n",
              "4         81              1           0         14              1   \n",
              "\n",
              "   unique_words_num  sentences_num  http_num  unique_vs_words  avg_wordlength  \\\n",
              "0               120             12         0         0.662983        5.513812   \n",
              "1                61              4         0         0.802632        5.447368   \n",
              "2                71              6         0         0.780220        5.362637   \n",
              "3                48              4         0         0.750000        4.968750   \n",
              "4                13              1         0         0.928571        5.785714   \n",
              "\n",
              "   avg_sentencelength        ARI  polarity  subjectivity  query_cos_sim  \n",
              "0           15.083333  12.081722 -0.042308      0.447436       0.650387  \n",
              "1           19.000000  13.727105  0.172222      0.325000       0.521176  \n",
              "2           15.166667  11.411355  0.190303      0.408788       0.388382  \n",
              "3           16.000000   9.972812  0.176190      0.509524       0.432402  \n",
              "4           14.000000  12.820714  0.000000      0.000000       0.558688  "
            ],
            "text/html": [
              "\n",
              "  <div id=\"df-7741ce11-68eb-4df0-a96a-275d6930edcf\">\n",
              "    <div class=\"colab-df-container\">\n",
              "      <div>\n",
              "<style scoped>\n",
              "    .dataframe tbody tr th:only-of-type {\n",
              "        vertical-align: middle;\n",
              "    }\n",
              "\n",
              "    .dataframe tbody tr th {\n",
              "        vertical-align: top;\n",
              "    }\n",
              "\n",
              "    .dataframe thead th {\n",
              "        text-align: right;\n",
              "    }\n",
              "</style>\n",
              "<table border=\"1\" class=\"dataframe\">\n",
              "  <thead>\n",
              "    <tr style=\"text-align: right;\">\n",
              "      <th></th>\n",
              "      <th>chars_num</th>\n",
              "      <th>cap_chars_num</th>\n",
              "      <th>digits_num</th>\n",
              "      <th>words_num</th>\n",
              "      <th>cap_words_num</th>\n",
              "      <th>unique_words_num</th>\n",
              "      <th>sentences_num</th>\n",
              "      <th>http_num</th>\n",
              "      <th>unique_vs_words</th>\n",
              "      <th>avg_wordlength</th>\n",
              "      <th>avg_sentencelength</th>\n",
              "      <th>ARI</th>\n",
              "      <th>polarity</th>\n",
              "      <th>subjectivity</th>\n",
              "      <th>query_cos_sim</th>\n",
              "    </tr>\n",
              "  </thead>\n",
              "  <tbody>\n",
              "    <tr>\n",
              "      <th>0</th>\n",
              "      <td>998</td>\n",
              "      <td>12</td>\n",
              "      <td>2</td>\n",
              "      <td>181</td>\n",
              "      <td>0</td>\n",
              "      <td>120</td>\n",
              "      <td>12</td>\n",
              "      <td>0</td>\n",
              "      <td>0.662983</td>\n",
              "      <td>5.513812</td>\n",
              "      <td>15.083333</td>\n",
              "      <td>12.081722</td>\n",
              "      <td>-0.042308</td>\n",
              "      <td>0.447436</td>\n",
              "      <td>0.650387</td>\n",
              "    </tr>\n",
              "    <tr>\n",
              "      <th>1</th>\n",
              "      <td>414</td>\n",
              "      <td>4</td>\n",
              "      <td>0</td>\n",
              "      <td>76</td>\n",
              "      <td>0</td>\n",
              "      <td>61</td>\n",
              "      <td>4</td>\n",
              "      <td>0</td>\n",
              "      <td>0.802632</td>\n",
              "      <td>5.447368</td>\n",
              "      <td>19.000000</td>\n",
              "      <td>13.727105</td>\n",
              "      <td>0.172222</td>\n",
              "      <td>0.325000</td>\n",
              "      <td>0.521176</td>\n",
              "    </tr>\n",
              "    <tr>\n",
              "      <th>2</th>\n",
              "      <td>488</td>\n",
              "      <td>28</td>\n",
              "      <td>0</td>\n",
              "      <td>91</td>\n",
              "      <td>5</td>\n",
              "      <td>71</td>\n",
              "      <td>6</td>\n",
              "      <td>0</td>\n",
              "      <td>0.780220</td>\n",
              "      <td>5.362637</td>\n",
              "      <td>15.166667</td>\n",
              "      <td>11.411355</td>\n",
              "      <td>0.190303</td>\n",
              "      <td>0.408788</td>\n",
              "      <td>0.388382</td>\n",
              "    </tr>\n",
              "    <tr>\n",
              "      <th>3</th>\n",
              "      <td>318</td>\n",
              "      <td>7</td>\n",
              "      <td>2</td>\n",
              "      <td>64</td>\n",
              "      <td>2</td>\n",
              "      <td>48</td>\n",
              "      <td>4</td>\n",
              "      <td>0</td>\n",
              "      <td>0.750000</td>\n",
              "      <td>4.968750</td>\n",
              "      <td>16.000000</td>\n",
              "      <td>9.972812</td>\n",
              "      <td>0.176190</td>\n",
              "      <td>0.509524</td>\n",
              "      <td>0.432402</td>\n",
              "    </tr>\n",
              "    <tr>\n",
              "      <th>4</th>\n",
              "      <td>81</td>\n",
              "      <td>1</td>\n",
              "      <td>0</td>\n",
              "      <td>14</td>\n",
              "      <td>1</td>\n",
              "      <td>13</td>\n",
              "      <td>1</td>\n",
              "      <td>0</td>\n",
              "      <td>0.928571</td>\n",
              "      <td>5.785714</td>\n",
              "      <td>14.000000</td>\n",
              "      <td>12.820714</td>\n",
              "      <td>0.000000</td>\n",
              "      <td>0.000000</td>\n",
              "      <td>0.558688</td>\n",
              "    </tr>\n",
              "  </tbody>\n",
              "</table>\n",
              "</div>\n",
              "      <button class=\"colab-df-convert\" onclick=\"convertToInteractive('df-7741ce11-68eb-4df0-a96a-275d6930edcf')\"\n",
              "              title=\"Convert this dataframe to an interactive table.\"\n",
              "              style=\"display:none;\">\n",
              "        \n",
              "  <svg xmlns=\"http://www.w3.org/2000/svg\" height=\"24px\"viewBox=\"0 0 24 24\"\n",
              "       width=\"24px\">\n",
              "    <path d=\"M0 0h24v24H0V0z\" fill=\"none\"/>\n",
              "    <path d=\"M18.56 5.44l.94 2.06.94-2.06 2.06-.94-2.06-.94-.94-2.06-.94 2.06-2.06.94zm-11 1L8.5 8.5l.94-2.06 2.06-.94-2.06-.94L8.5 2.5l-.94 2.06-2.06.94zm10 10l.94 2.06.94-2.06 2.06-.94-2.06-.94-.94-2.06-.94 2.06-2.06.94z\"/><path d=\"M17.41 7.96l-1.37-1.37c-.4-.4-.92-.59-1.43-.59-.52 0-1.04.2-1.43.59L10.3 9.45l-7.72 7.72c-.78.78-.78 2.05 0 2.83L4 21.41c.39.39.9.59 1.41.59.51 0 1.02-.2 1.41-.59l7.78-7.78 2.81-2.81c.8-.78.8-2.07 0-2.86zM5.41 20L4 18.59l7.72-7.72 1.47 1.35L5.41 20z\"/>\n",
              "  </svg>\n",
              "      </button>\n",
              "      \n",
              "  <style>\n",
              "    .colab-df-container {\n",
              "      display:flex;\n",
              "      flex-wrap:wrap;\n",
              "      gap: 12px;\n",
              "    }\n",
              "\n",
              "    .colab-df-convert {\n",
              "      background-color: #E8F0FE;\n",
              "      border: none;\n",
              "      border-radius: 50%;\n",
              "      cursor: pointer;\n",
              "      display: none;\n",
              "      fill: #1967D2;\n",
              "      height: 32px;\n",
              "      padding: 0 0 0 0;\n",
              "      width: 32px;\n",
              "    }\n",
              "\n",
              "    .colab-df-convert:hover {\n",
              "      background-color: #E2EBFA;\n",
              "      box-shadow: 0px 1px 2px rgba(60, 64, 67, 0.3), 0px 1px 3px 1px rgba(60, 64, 67, 0.15);\n",
              "      fill: #174EA6;\n",
              "    }\n",
              "\n",
              "    [theme=dark] .colab-df-convert {\n",
              "      background-color: #3B4455;\n",
              "      fill: #D2E3FC;\n",
              "    }\n",
              "\n",
              "    [theme=dark] .colab-df-convert:hover {\n",
              "      background-color: #434B5C;\n",
              "      box-shadow: 0px 1px 3px 1px rgba(0, 0, 0, 0.15);\n",
              "      filter: drop-shadow(0px 1px 2px rgba(0, 0, 0, 0.3));\n",
              "      fill: #FFFFFF;\n",
              "    }\n",
              "  </style>\n",
              "\n",
              "      <script>\n",
              "        const buttonEl =\n",
              "          document.querySelector('#df-7741ce11-68eb-4df0-a96a-275d6930edcf button.colab-df-convert');\n",
              "        buttonEl.style.display =\n",
              "          google.colab.kernel.accessAllowed ? 'block' : 'none';\n",
              "\n",
              "        async function convertToInteractive(key) {\n",
              "          const element = document.querySelector('#df-7741ce11-68eb-4df0-a96a-275d6930edcf');\n",
              "          const dataTable =\n",
              "            await google.colab.kernel.invokeFunction('convertToInteractive',\n",
              "                                                     [key], {});\n",
              "          if (!dataTable) return;\n",
              "\n",
              "          const docLinkHtml = 'Like what you see? Visit the ' +\n",
              "            '<a target=\"_blank\" href=https://colab.research.google.com/notebooks/data_table.ipynb>data table notebook</a>'\n",
              "            + ' to learn more about interactive tables.';\n",
              "          element.innerHTML = '';\n",
              "          dataTable['output_type'] = 'display_data';\n",
              "          await google.colab.output.renderOutput(dataTable, element);\n",
              "          const docLink = document.createElement('div');\n",
              "          docLink.innerHTML = docLinkHtml;\n",
              "          element.appendChild(docLink);\n",
              "        }\n",
              "      </script>\n",
              "    </div>\n",
              "  </div>\n",
              "  "
            ]
          },
          "metadata": {},
          "execution_count": 4
        }
      ],
      "id": "XgAnOhD-IbbK"
    },
    {
      "cell_type": "code",
      "source": [
        "scores = torch.load(f'{data_dir}/scores.pt').numpy()\n",
        "scores"
      ],
      "metadata": {
        "id": "SSb98LspMkfh",
        "colab": {
          "base_uri": "https://localhost:8080/"
        },
        "outputId": "cb44a4ef-a9f0-4c8a-fd14-6e3be22a94ad"
      },
      "execution_count": null,
      "outputs": [
        {
          "output_type": "execute_result",
          "data": {
            "text/plain": [
              "array([4., 3., 2., ..., 2., 1., 0.], dtype=float32)"
            ]
          },
          "metadata": {},
          "execution_count": 5
        }
      ],
      "id": "SSb98LspMkfh"
    },
    {
      "cell_type": "markdown",
      "source": [
        "### Load BERT embeddings"
      ],
      "metadata": {
        "id": "4Ml3FkqlAIAm"
      },
      "id": "4Ml3FkqlAIAm"
    },
    {
      "cell_type": "code",
      "execution_count": null,
      "metadata": {
        "id": "3ac51388"
      },
      "outputs": [],
      "source": [
        "'''\n",
        "query_embedding = torch.load(f'{data_dir}/query_embedding.pt')\n",
        "documents_embedding = torch.load(f'{data_dir}/documents_embedding.pt')\n",
        "scores = torch.load(f'{data_dir}/scores.pt')\n",
        "'''"
      ],
      "id": "3ac51388"
    },
    {
      "cell_type": "markdown",
      "source": [
        "### Load better embeddings"
      ],
      "metadata": {
        "id": "LK8LDN1NAN4l"
      },
      "id": "LK8LDN1NAN4l"
    },
    {
      "cell_type": "code",
      "source": [
        "query_embedding = pd.Series(list(np.load(f'{data_dir}/embeddings_v2/query_embeddings_all-mpnet-base-v2.npy')))\n",
        "query_embedding = query_embedding.repeat(5).reset_index(drop=True)\n",
        "documents_embedding = pd.Series(list(np.load(f'{data_dir}/embeddings_v2/documents_embeddings_all-mpnet-base-v2.npy')))\n",
        "features_df['query_embedding'] = query_embedding\n",
        "features_df['documents_embedding'] = documents_embedding\n",
        "del query_embedding, documents_embedding\n",
        "features_df.head()"
      ],
      "metadata": {
        "id": "1lGMzNZR89p5",
        "colab": {
          "base_uri": "https://localhost:8080/",
          "height": 530
        },
        "outputId": "ed2eb8cc-34be-428c-e7d4-564c9e989f30"
      },
      "execution_count": null,
      "outputs": [
        {
          "output_type": "execute_result",
          "data": {
            "text/plain": [
              "   chars_num  cap_chars_num  digits_num  words_num  cap_words_num  \\\n",
              "0        998             12           2        181              0   \n",
              "1        414              4           0         76              0   \n",
              "2        488             28           0         91              5   \n",
              "3        318              7           2         64              2   \n",
              "4         81              1           0         14              1   \n",
              "\n",
              "   unique_words_num  sentences_num  http_num  unique_vs_words  avg_wordlength  \\\n",
              "0               120             12         0         0.662983        5.513812   \n",
              "1                61              4         0         0.802632        5.447368   \n",
              "2                71              6         0         0.780220        5.362637   \n",
              "3                48              4         0         0.750000        4.968750   \n",
              "4                13              1         0         0.928571        5.785714   \n",
              "\n",
              "   avg_sentencelength        ARI  polarity  subjectivity  query_cos_sim  \\\n",
              "0           15.083333  12.081722 -0.042308      0.447436       0.650387   \n",
              "1           19.000000  13.727105  0.172222      0.325000       0.521176   \n",
              "2           15.166667  11.411355  0.190303      0.408788       0.388382   \n",
              "3           16.000000   9.972812  0.176190      0.509524       0.432402   \n",
              "4           14.000000  12.820714  0.000000      0.000000       0.558688   \n",
              "\n",
              "                                     query_embedding  \\\n",
              "0  [0.006199492, 0.06803588, 0.033932466, -0.0389...   \n",
              "1  [0.006199492, 0.06803588, 0.033932466, -0.0389...   \n",
              "2  [0.006199492, 0.06803588, 0.033932466, -0.0389...   \n",
              "3  [0.006199492, 0.06803588, 0.033932466, -0.0389...   \n",
              "4  [0.006199492, 0.06803588, 0.033932466, -0.0389...   \n",
              "\n",
              "                                 documents_embedding  \n",
              "0  [0.02874059, 0.074416034, 0.00049099687, -0.06...  \n",
              "1  [0.024375303, 0.07518393, 0.00220382, -0.02227...  \n",
              "2  [0.041326154, 0.033660267, -0.0032435376, -0.0...  \n",
              "3  [0.045692235, 0.03450061, 0.02756351, -0.04389...  \n",
              "4  [0.015234432, 0.09494876, 0.013694247, -0.0326...  "
            ],
            "text/html": [
              "\n",
              "  <div id=\"df-7e9d8e3a-7dbd-4371-becb-5023883c420f\">\n",
              "    <div class=\"colab-df-container\">\n",
              "      <div>\n",
              "<style scoped>\n",
              "    .dataframe tbody tr th:only-of-type {\n",
              "        vertical-align: middle;\n",
              "    }\n",
              "\n",
              "    .dataframe tbody tr th {\n",
              "        vertical-align: top;\n",
              "    }\n",
              "\n",
              "    .dataframe thead th {\n",
              "        text-align: right;\n",
              "    }\n",
              "</style>\n",
              "<table border=\"1\" class=\"dataframe\">\n",
              "  <thead>\n",
              "    <tr style=\"text-align: right;\">\n",
              "      <th></th>\n",
              "      <th>chars_num</th>\n",
              "      <th>cap_chars_num</th>\n",
              "      <th>digits_num</th>\n",
              "      <th>words_num</th>\n",
              "      <th>cap_words_num</th>\n",
              "      <th>unique_words_num</th>\n",
              "      <th>sentences_num</th>\n",
              "      <th>http_num</th>\n",
              "      <th>unique_vs_words</th>\n",
              "      <th>avg_wordlength</th>\n",
              "      <th>avg_sentencelength</th>\n",
              "      <th>ARI</th>\n",
              "      <th>polarity</th>\n",
              "      <th>subjectivity</th>\n",
              "      <th>query_cos_sim</th>\n",
              "      <th>query_embedding</th>\n",
              "      <th>documents_embedding</th>\n",
              "    </tr>\n",
              "  </thead>\n",
              "  <tbody>\n",
              "    <tr>\n",
              "      <th>0</th>\n",
              "      <td>998</td>\n",
              "      <td>12</td>\n",
              "      <td>2</td>\n",
              "      <td>181</td>\n",
              "      <td>0</td>\n",
              "      <td>120</td>\n",
              "      <td>12</td>\n",
              "      <td>0</td>\n",
              "      <td>0.662983</td>\n",
              "      <td>5.513812</td>\n",
              "      <td>15.083333</td>\n",
              "      <td>12.081722</td>\n",
              "      <td>-0.042308</td>\n",
              "      <td>0.447436</td>\n",
              "      <td>0.650387</td>\n",
              "      <td>[0.006199492, 0.06803588, 0.033932466, -0.0389...</td>\n",
              "      <td>[0.02874059, 0.074416034, 0.00049099687, -0.06...</td>\n",
              "    </tr>\n",
              "    <tr>\n",
              "      <th>1</th>\n",
              "      <td>414</td>\n",
              "      <td>4</td>\n",
              "      <td>0</td>\n",
              "      <td>76</td>\n",
              "      <td>0</td>\n",
              "      <td>61</td>\n",
              "      <td>4</td>\n",
              "      <td>0</td>\n",
              "      <td>0.802632</td>\n",
              "      <td>5.447368</td>\n",
              "      <td>19.000000</td>\n",
              "      <td>13.727105</td>\n",
              "      <td>0.172222</td>\n",
              "      <td>0.325000</td>\n",
              "      <td>0.521176</td>\n",
              "      <td>[0.006199492, 0.06803588, 0.033932466, -0.0389...</td>\n",
              "      <td>[0.024375303, 0.07518393, 0.00220382, -0.02227...</td>\n",
              "    </tr>\n",
              "    <tr>\n",
              "      <th>2</th>\n",
              "      <td>488</td>\n",
              "      <td>28</td>\n",
              "      <td>0</td>\n",
              "      <td>91</td>\n",
              "      <td>5</td>\n",
              "      <td>71</td>\n",
              "      <td>6</td>\n",
              "      <td>0</td>\n",
              "      <td>0.780220</td>\n",
              "      <td>5.362637</td>\n",
              "      <td>15.166667</td>\n",
              "      <td>11.411355</td>\n",
              "      <td>0.190303</td>\n",
              "      <td>0.408788</td>\n",
              "      <td>0.388382</td>\n",
              "      <td>[0.006199492, 0.06803588, 0.033932466, -0.0389...</td>\n",
              "      <td>[0.041326154, 0.033660267, -0.0032435376, -0.0...</td>\n",
              "    </tr>\n",
              "    <tr>\n",
              "      <th>3</th>\n",
              "      <td>318</td>\n",
              "      <td>7</td>\n",
              "      <td>2</td>\n",
              "      <td>64</td>\n",
              "      <td>2</td>\n",
              "      <td>48</td>\n",
              "      <td>4</td>\n",
              "      <td>0</td>\n",
              "      <td>0.750000</td>\n",
              "      <td>4.968750</td>\n",
              "      <td>16.000000</td>\n",
              "      <td>9.972812</td>\n",
              "      <td>0.176190</td>\n",
              "      <td>0.509524</td>\n",
              "      <td>0.432402</td>\n",
              "      <td>[0.006199492, 0.06803588, 0.033932466, -0.0389...</td>\n",
              "      <td>[0.045692235, 0.03450061, 0.02756351, -0.04389...</td>\n",
              "    </tr>\n",
              "    <tr>\n",
              "      <th>4</th>\n",
              "      <td>81</td>\n",
              "      <td>1</td>\n",
              "      <td>0</td>\n",
              "      <td>14</td>\n",
              "      <td>1</td>\n",
              "      <td>13</td>\n",
              "      <td>1</td>\n",
              "      <td>0</td>\n",
              "      <td>0.928571</td>\n",
              "      <td>5.785714</td>\n",
              "      <td>14.000000</td>\n",
              "      <td>12.820714</td>\n",
              "      <td>0.000000</td>\n",
              "      <td>0.000000</td>\n",
              "      <td>0.558688</td>\n",
              "      <td>[0.006199492, 0.06803588, 0.033932466, -0.0389...</td>\n",
              "      <td>[0.015234432, 0.09494876, 0.013694247, -0.0326...</td>\n",
              "    </tr>\n",
              "  </tbody>\n",
              "</table>\n",
              "</div>\n",
              "      <button class=\"colab-df-convert\" onclick=\"convertToInteractive('df-7e9d8e3a-7dbd-4371-becb-5023883c420f')\"\n",
              "              title=\"Convert this dataframe to an interactive table.\"\n",
              "              style=\"display:none;\">\n",
              "        \n",
              "  <svg xmlns=\"http://www.w3.org/2000/svg\" height=\"24px\"viewBox=\"0 0 24 24\"\n",
              "       width=\"24px\">\n",
              "    <path d=\"M0 0h24v24H0V0z\" fill=\"none\"/>\n",
              "    <path d=\"M18.56 5.44l.94 2.06.94-2.06 2.06-.94-2.06-.94-.94-2.06-.94 2.06-2.06.94zm-11 1L8.5 8.5l.94-2.06 2.06-.94-2.06-.94L8.5 2.5l-.94 2.06-2.06.94zm10 10l.94 2.06.94-2.06 2.06-.94-2.06-.94-.94-2.06-.94 2.06-2.06.94z\"/><path d=\"M17.41 7.96l-1.37-1.37c-.4-.4-.92-.59-1.43-.59-.52 0-1.04.2-1.43.59L10.3 9.45l-7.72 7.72c-.78.78-.78 2.05 0 2.83L4 21.41c.39.39.9.59 1.41.59.51 0 1.02-.2 1.41-.59l7.78-7.78 2.81-2.81c.8-.78.8-2.07 0-2.86zM5.41 20L4 18.59l7.72-7.72 1.47 1.35L5.41 20z\"/>\n",
              "  </svg>\n",
              "      </button>\n",
              "      \n",
              "  <style>\n",
              "    .colab-df-container {\n",
              "      display:flex;\n",
              "      flex-wrap:wrap;\n",
              "      gap: 12px;\n",
              "    }\n",
              "\n",
              "    .colab-df-convert {\n",
              "      background-color: #E8F0FE;\n",
              "      border: none;\n",
              "      border-radius: 50%;\n",
              "      cursor: pointer;\n",
              "      display: none;\n",
              "      fill: #1967D2;\n",
              "      height: 32px;\n",
              "      padding: 0 0 0 0;\n",
              "      width: 32px;\n",
              "    }\n",
              "\n",
              "    .colab-df-convert:hover {\n",
              "      background-color: #E2EBFA;\n",
              "      box-shadow: 0px 1px 2px rgba(60, 64, 67, 0.3), 0px 1px 3px 1px rgba(60, 64, 67, 0.15);\n",
              "      fill: #174EA6;\n",
              "    }\n",
              "\n",
              "    [theme=dark] .colab-df-convert {\n",
              "      background-color: #3B4455;\n",
              "      fill: #D2E3FC;\n",
              "    }\n",
              "\n",
              "    [theme=dark] .colab-df-convert:hover {\n",
              "      background-color: #434B5C;\n",
              "      box-shadow: 0px 1px 3px 1px rgba(0, 0, 0, 0.15);\n",
              "      filter: drop-shadow(0px 1px 2px rgba(0, 0, 0, 0.3));\n",
              "      fill: #FFFFFF;\n",
              "    }\n",
              "  </style>\n",
              "\n",
              "      <script>\n",
              "        const buttonEl =\n",
              "          document.querySelector('#df-7e9d8e3a-7dbd-4371-becb-5023883c420f button.colab-df-convert');\n",
              "        buttonEl.style.display =\n",
              "          google.colab.kernel.accessAllowed ? 'block' : 'none';\n",
              "\n",
              "        async function convertToInteractive(key) {\n",
              "          const element = document.querySelector('#df-7e9d8e3a-7dbd-4371-becb-5023883c420f');\n",
              "          const dataTable =\n",
              "            await google.colab.kernel.invokeFunction('convertToInteractive',\n",
              "                                                     [key], {});\n",
              "          if (!dataTable) return;\n",
              "\n",
              "          const docLinkHtml = 'Like what you see? Visit the ' +\n",
              "            '<a target=\"_blank\" href=https://colab.research.google.com/notebooks/data_table.ipynb>data table notebook</a>'\n",
              "            + ' to learn more about interactive tables.';\n",
              "          element.innerHTML = '';\n",
              "          dataTable['output_type'] = 'display_data';\n",
              "          await google.colab.output.renderOutput(dataTable, element);\n",
              "          const docLink = document.createElement('div');\n",
              "          docLink.innerHTML = docLinkHtml;\n",
              "          element.appendChild(docLink);\n",
              "        }\n",
              "      </script>\n",
              "    </div>\n",
              "  </div>\n",
              "  "
            ]
          },
          "metadata": {},
          "execution_count": 15
        }
      ],
      "id": "1lGMzNZR89p5"
    },
    {
      "cell_type": "markdown",
      "source": [
        "## Split data and train model"
      ],
      "metadata": {
        "id": "KE5RzxUxb-4g"
      },
      "id": "KE5RzxUxb-4g"
    },
    {
      "cell_type": "code",
      "source": [
        "splitter = GroupShuffleSplit(test_size=0.20, n_splits=2, random_state=42)\n",
        "split = splitter.split(features_df, groups=groups_ids)\n",
        "\n",
        "train_inds, test_inds = next(split)\n",
        "train_df = features_df.iloc[train_inds]\n",
        "train_group_ids = groups_ids[train_inds]\n",
        "train_scores = scores[train_inds]\n",
        "test_df = features_df.iloc[test_inds]\n",
        "test_group_ids = groups_ids[test_inds]\n",
        "test_scores = scores[test_inds]"
      ],
      "metadata": {
        "id": "THPzUNcubCBW"
      },
      "id": "THPzUNcubCBW",
      "execution_count": null,
      "outputs": []
    },
    {
      "cell_type": "code",
      "source": [
        "train = Pool(\n",
        "    data=train_df,\n",
        "    label=train_scores,\n",
        "    group_id=train_group_ids,\n",
        "    embedding_features=['documents_embedding', 'query_embedding'],\n",
        ")\n",
        "\n",
        "test = Pool(\n",
        "    data=test_df,\n",
        "    label=test_scores,\n",
        "    group_id=test_group_ids,\n",
        "    embedding_features=['documents_embedding', 'query_embedding'],\n",
        ")"
      ],
      "metadata": {
        "id": "wDR31i1LZKtb"
      },
      "execution_count": null,
      "outputs": [],
      "id": "wDR31i1LZKtb"
    },
    {
      "cell_type": "code",
      "execution_count": null,
      "metadata": {
        "id": "XZTvCCLFNML0"
      },
      "outputs": [],
      "source": [
        "default_parameters = {\n",
        "    'iterations': 50,\n",
        "    'custom_metric': ['NDCG'],\n",
        "    'verbose': True,\n",
        "    'random_seed': 0,\n",
        "}\n",
        "\n",
        "def fit_model(loss_function, additional_params=None, train_pool=train, test_pool=test):\n",
        "    parameters = deepcopy(default_parameters)\n",
        "    parameters['loss_function'] = loss_function\n",
        "    parameters['train_dir'] = loss_function\n",
        "\n",
        "    if additional_params is not None:\n",
        "        parameters.update(additional_params)\n",
        "\n",
        "    model = CatBoostRanker(**parameters)\n",
        "    model.fit(train_pool, eval_set=test_pool, plot=True)\n",
        "\n",
        "    return model"
      ],
      "id": "XZTvCCLFNML0"
    },
    {
      "cell_type": "code",
      "execution_count": null,
      "metadata": {
        "colab": {
          "base_uri": "https://localhost:8080/",
          "height": 191,
          "referenced_widgets": [
            "59820c7ec19d4d4a9d9ac3e29aa487e0"
          ]
        },
        "outputId": "51aae244-5052-44bb-95de-2b05729619d5",
        "id": "SjB3ry8xNML0"
      },
      "outputs": [
        {
          "output_type": "display_data",
          "data": {
            "text/plain": [
              "MetricVisualizer(layout=Layout(align_self='stretch', height='500px'))"
            ],
            "application/vnd.jupyter.widget-view+json": {
              "version_major": 2,
              "version_minor": 0,
              "model_id": "59820c7ec19d4d4a9d9ac3e29aa487e0"
            }
          },
          "metadata": {}
        },
        {
          "output_type": "stream",
          "name": "stdout",
          "text": [
            "0:\ttest: 0.8364405\tbest: 0.8364405 (0)\ttotal: 521ms\tremaining: 25.5s\n",
            "10:\ttest: 0.8673998\tbest: 0.8673998 (10)\ttotal: 6.72s\tremaining: 23.8s\n",
            "20:\ttest: 0.8747770\tbest: 0.8747770 (20)\ttotal: 10.9s\tremaining: 15.1s\n",
            "30:\ttest: 0.8823703\tbest: 0.8823703 (30)\ttotal: 15.2s\tremaining: 9.29s\n",
            "40:\ttest: 0.8841149\tbest: 0.8841149 (40)\ttotal: 21.3s\tremaining: 4.68s\n",
            "49:\ttest: 0.8863856\tbest: 0.8863856 (49)\ttotal: 25.1s\tremaining: 0us\n",
            "\n",
            "bestTest = 0.8863855624\n",
            "bestIteration = 49\n",
            "\n"
          ]
        }
      ],
      "source": [
        "model = fit_model('YetiRank', {'metric_period': 10, 'learning_rate': 0.01,\n",
        "                               'depth': 4})  # 'task_type': 'GPU'"
      ],
      "id": "SjB3ry8xNML0"
    },
    {
      "cell_type": "code",
      "source": [
        "# NDCG on test\n",
        "n = torch.tensor([5])\n",
        "s = torch.tensor(model.predict(test).reshape([len(test_df)//5, 5]))\n",
        "r = torch.tensor(test_scores.reshape([len(test_df)//5, 5]))\n",
        "ndcgs_test = ndcg(s, r, n, k=5).numpy()\n",
        "ndcgs_test.mean()"
      ],
      "metadata": {
        "colab": {
          "base_uri": "https://localhost:8080/"
        },
        "outputId": "1a1535ff-5a9d-4cdc-ce37-dd0563f372af",
        "id": "KSCepAaMNML1"
      },
      "execution_count": null,
      "outputs": [
        {
          "output_type": "execute_result",
          "data": {
            "text/plain": [
              "0.82961476"
            ]
          },
          "metadata": {},
          "execution_count": 27
        }
      ],
      "id": "KSCepAaMNML1"
    },
    {
      "cell_type": "code",
      "source": [
        "plt.hist(ndcgs_test, bins=10, density=True)\n",
        "plt.title(\"NDCG metric distribution (on test)\")\n",
        "plt.xlabel(\"NDCG\")\n",
        "plt.show()"
      ],
      "metadata": {
        "outputId": "b6a467b5-b6d8-424e-e287-0cace45eec82",
        "colab": {
          "base_uri": "https://localhost:8080/",
          "height": 472
        },
        "id": "N-w_p29lZKtc"
      },
      "execution_count": null,
      "outputs": [
        {
          "output_type": "display_data",
          "data": {
            "text/plain": [
              "<Figure size 640x480 with 1 Axes>"
            ],
            "image/png": "[encoded data removed]"
          },
          "metadata": {}
        }
      ],
      "id": "N-w_p29lZKtc"
    },
    {
      "cell_type": "code",
      "source": [
        "# NDCG on train\n",
        "n = torch.tensor([5])\n",
        "s = torch.tensor(model.predict(train).reshape([len(train_df)//5, 5]))\n",
        "r = torch.tensor(train_scores.reshape([len(train_df)//5, 5]))\n",
        "ndcgs_train = ndcg(s, r, n, k=5).numpy()\n",
        "ndcgs_train.mean()"
      ],
      "metadata": {
        "colab": {
          "base_uri": "https://localhost:8080/"
        },
        "outputId": "a1086c39-7aff-4e9d-ac0d-dcac2057ca15",
        "id": "9D2G0juRNML1"
      },
      "execution_count": null,
      "outputs": [
        {
          "output_type": "execute_result",
          "data": {
            "text/plain": [
              "0.83673495"
            ]
          },
          "metadata": {},
          "execution_count": 29
        }
      ],
      "id": "9D2G0juRNML1"
    },
    {
      "cell_type": "code",
      "source": [
        "plt.hist(ndcgs_train, bins=10, density=True)\n",
        "plt.title(\"NDCG metric distribution (on test)\")\n",
        "plt.xlabel(\"NDCG\")\n",
        "plt.show()"
      ],
      "metadata": {
        "outputId": "41d0f135-d05f-42df-a5f4-472b2af2d8c1",
        "colab": {
          "base_uri": "https://localhost:8080/",
          "height": 472
        },
        "id": "G0p97kL_ZKtc"
      },
      "execution_count": null,
      "outputs": [
        {
          "output_type": "display_data",
          "data": {
            "text/plain": [
              "<Figure size 640x480 with 1 Axes>"
            ],
            "image/png": "[encoded data removed]"
          },
          "metadata": {}
        }
      ],
      "id": "G0p97kL_ZKtc"
    }
  ],
  "metadata": {
    "kernelspec": {
      "display_name": "Python 3",
      "name": "python3"
    },
    "language_info": {
      "codemirror_mode": {
        "name": "ipython",
        "version": 3
      },
      "file_extension": ".py",
      "mimetype": "text/x-python",
      "name": "python",
      "nbconvert_exporter": "python",
      "pygments_lexer": "ipython3",
      "version": "3.10.9"
    },
    "colab": {
      "provenance": [],
      "gpuType": "T4",
      "collapsed_sections": [
        "4Ml3FkqlAIAm"
      ]
    },
    "widgets": {
      "application/vnd.jupyter.widget-state+json": {
        "023a160ae6bc43d8a6b1244a91cb2446": {
          "model_module": "catboost-widget",
          "model_name": "CatboostWidgetModel",
          "model_module_version": "^1.0.0",
          "state": {
            "_dom_classes": [],
            "_model_module": "catboost-widget",
            "_model_module_version": "^1.0.0",
            "_model_name": "CatboostWidgetModel",
            "_view_count": null,
            "_view_module": "catboost-widget",
            "_view_module_version": "^1.0.0",
            "_view_name": "CatboostWidgetView",
            "data": {
              "YetiRank": {
                "path": "YetiRank",
                "name": "YetiRank",
                "content": {
                  "passed_iterations": 49,
                  "total_iterations": 50,
                  "data": {
                    "iterations": [
                      {
                        "iteration": 0,
                        "passed_time": 4.992154251,
                        "remaining_time": 244.6155583,
                        "test": [
                          0.8357606607
                        ]
                      },
                      {
                        "iteration": 10,
                        "passed_time": 24.71863844,
                        "remaining_time": 87.63880903,
                        "test": [
                          0.8693004681
                        ]
                      },
                      {
                        "iteration": 20,
                        "passed_time": 45.57137208,
                        "remaining_time": 62.93189478,
                        "test": [
                          0.8790809335
                        ]
                      },
                      {
                        "iteration": 30,
                        "passed_time": 72.02443902,
                        "remaining_time": 44.14401101,
                        "test": [
                          0.8822366926
                        ]
                      },
                      {
                        "iteration": 40,
                        "passed_time": 94.68555503,
                        "remaining_time": 20.78463403,
                        "test": [
                          0.884791434
                        ]
                      },
                      {
                        "iteration": 49,
                        "passed_time": 118.1558871,
                        "remaining_time": 0,
                        "test": [
                          0.887757583
                        ]
                      }
                    ],
                    "meta": {
                      "test_sets": [
                        "test"
                      ],
                      "test_metrics": [
                        {
                          "best_value": "Max",
                          "name": "NDCG:type=Base"
                        }
                      ],
                      "learn_metrics": [],
                      "launch_mode": "Train",
                      "parameters": "",
                      "iteration_count": 50,
                      "learn_sets": [
                        "learn"
                      ],
                      "name": "experiment"
                    }
                  }
                }
              }
            },
            "layout": "IPY_MODEL_f65f2ecf5f1b4d929bbd558ad0a6a598"
          }
        }
      }
    },
    "accelerator": "GPU"
  },
  "nbformat": 4,
  "nbformat_minor": 5
}